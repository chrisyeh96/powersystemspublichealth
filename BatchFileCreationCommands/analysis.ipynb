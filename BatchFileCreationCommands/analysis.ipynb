{
 "cells": [
  {
   "cell_type": "code",
   "execution_count": 1,
   "id": "2a530f90",
   "metadata": {},
   "outputs": [],
   "source": [
    "import numpy as np\n",
    "from sklearn.linear_model import LinearRegression\n",
    "from sklearn.model_selection import train_test_split\n",
    "from sklearn.metrics import mean_squared_error, r2_score, root_mean_squared_error\n",
    "import pandas as pd\n",
    "import matplotlib.pyplot as plt\n",
    "\n"
   ]
  },
  {
   "cell_type": "code",
   "execution_count": 2,
   "id": "dbf87ceb",
   "metadata": {},
   "outputs": [],
   "source": [
    "# Pre-pre processing:\n",
    "# set up rng\n",
    "# from frozendict import V\n",
    "seed = 0\n",
    "np.random.seed(seed)\n",
    "num_samples = 800\n",
    "\n",
    "# # load in baseline health cost with 0 change in generation\n",
    "# baseline = pd.read_csv(\"C:\\\\Users\\\\elrog\\\\COBRA\\\\input files\\\\new data\\\\Output_080425_2\\\\NoChange.csv\", nrows = 5)\n",
    "\n",
    "# y_base = np.zeros((1,2))\n",
    "# # save minimum and maximum baseline values\n",
    "# min_base = baseline.at[0,'$ Total Health Benefits(low estimate)'] / 2000\n",
    "# min_base = min_base.split()[-1]\n",
    "# max_base = baseline.at[0,'$ Total Health Benefits(high estimate)'] / 2000\n",
    "# max_base = max_base.split()[-1]\n",
    "\n",
    "# y_base[0] = [float(min_base),float(max_base)]\n",
    "# print(y_base)"
   ]
  },
  {
   "cell_type": "code",
   "execution_count": 24,
   "id": "5d1607bc",
   "metadata": {},
   "outputs": [],
   "source": [
    "# next load in health data\n",
    "y_health = np.zeros((num_samples, 2))\n",
    "x_emvect = np.zeros((num_samples, 4, 42))\n",
    "\n",
    "index = 0\n",
    "# for i in range(num_samples+num_skipped):\n",
    "for i in range(num_samples):\n",
    "    # first extract health data from each trial\n",
    "    file = pd.read_csv('C:\\\\Users\\\\Loaner\\\\Desktop\\\\COBRA Outcomes\\\\Experiment 082325\\\\Outcome'+str(i+1)+'.csv', nrows=5)\n",
    "    emissions_file = pd.read_csv('C:\\\\Users\\\\Loaner\\\\Desktop\\\\powersystemspublichealth\\\\EmissionsScenarios\\\\Scenarios082325\\\\DataFile'+str(i+1)+'.csv')\n",
    "\n",
    "    min = file.at[0,'$ Total Health Benefits(low estimate)']\n",
    "    min = float(min.split()[-1])\n",
    "\n",
    "    max = file.at[0,'$ Total Health Benefits(high estimate)']\n",
    "    max = float(max.split()[-1])\n",
    "\n",
    "    y_health[i] = [float(min),float(max)]    \n",
    "\n",
    "    # Nox = emissions_file['NOx'].to_numpy()\n",
    "    # So2 = emissions_file['SO2'].to_numpy()\n",
    "    x_emvect[i] = [emissions_file['NOx'].to_numpy(),emissions_file['SO2'].to_numpy(),emissions_file['PM25'].to_numpy(),emissions_file['VOC'].to_numpy()]\n",
    "\n",
    "\n",
    "# # index: [datafile][emission][entry]\n",
    "# # emvect: [NOx, SO2, PM25,VOC]\n",
    "# print(x_emvect[1][1][1])\n",
    "# print(x_emvect.size())\n",
    "# print(x_emvect)\n"
   ]
  },
  {
   "cell_type": "code",
   "execution_count": 25,
   "id": "fa5d0726",
   "metadata": {},
   "outputs": [
    {
     "name": "stdout",
     "output_type": "stream",
     "text": [
      "[[-3121879.6309119  -4325635.69037655]\n",
      " [-2459850.65728263 -3435052.28188826]\n",
      " [-2912872.12967135 -4060500.2603103 ]\n",
      " ...\n",
      " [-3292262.34421563 -4578357.59410896]\n",
      " [-2656950.99441688 -3695101.5107903 ]\n",
      " [-3184761.05293751 -4430906.15124934]]\n"
     ]
    }
   ],
   "source": [
    "print(y_health)"
   ]
  },
  {
   "cell_type": "code",
   "execution_count": 26,
   "id": "e20605d2",
   "metadata": {},
   "outputs": [],
   "source": [
    "# split data into 75% training set and 25% testing\n",
    "indx = int(0.75*num_samples)\n",
    "\n",
    "x_train = x_emvect[:indx]\n",
    "x_test = x_emvect[indx:]\n",
    "\n",
    "# print(x_train.shape)\n",
    "\n",
    "# print(x_test)\n",
    "\n",
    "y_train = y_health[:indx,:]\n",
    "y_test = y_health[indx:,:]\n",
    "\n",
    "# Steps from ChatGPT\n",
    "# Flatten Data points to be used in regression:\n",
    "# Step 1: Flatten each sample (4, 42) → (168,)\n",
    "X_train = np.array([dp.flatten() for dp in x_train])\n",
    "X_test = np.array([dp.flatten() for dp in x_test])\n",
    "# X_train = x_train.reshape(indx, -1)  # Shape becomes (5, 168)\n",
    "# X_test = x_test.reshape(indx, -1)\n",
    "\n",
    "# Step 2: Fit linear regression\n",
    "model = LinearRegression()\n",
    "model.fit(X_train, y_train)\n",
    "\n",
    "# Step 3: Make predictions (optional)\n",
    "y_pred = model.predict(X_test)\n"
   ]
  },
  {
   "cell_type": "code",
   "execution_count": 29,
   "id": "419d94d3",
   "metadata": {},
   "outputs": [
    {
     "name": "stdout",
     "output_type": "stream",
     "text": [
      "Coefficients shape: (2, 168)\n",
      "Mean squared error (low est): 0.01\n",
      "Coefficient of determination (low est): 1.00\n",
      "Mean squared error (high est): 0.01\n",
      "Coefficient of determination (high est): 1.00\n"
     ]
    }
   ],
   "source": [
    "print(\"Coefficients shape:\", model.coef_.shape)  # (168,)\n",
    "# print(\"Coefficients: \\n\", model.coef_)\n",
    "\n",
    "# print(y_test[:,0])\n",
    "# print(y_pred[:,0])\n",
    "print(\"Mean squared error (low est): %.2f\" % mean_squared_error(y_test[:,0], y_pred[:,0]))\n",
    "print(\"Coefficient of determination (low est): %.2f\" % r2_score(y_test[:,0], y_pred[:,0]))\n",
    "print(\"Mean squared error (high est): %.2f\" % mean_squared_error(y_test[:,1], y_pred[:,1]))\n",
    "print(\"Coefficient of determination (high est): %.2f\" % r2_score(y_test[:,1], y_pred[:,1]))\n",
    "# print(\"Predictions:\", y_pred)"
   ]
  },
  {
   "cell_type": "code",
   "execution_count": null,
   "id": "5b4f293c",
   "metadata": {},
   "outputs": [
    {
     "name": "stdout",
     "output_type": "stream",
     "text": [
      "     Low Estimate  High Estimate\n",
      "0    8.520363e-11   1.054498e-10\n",
      "1   -1.078640e+05  -1.454223e+05\n",
      "2   -1.008673e-03  -8.809011e-04\n",
      "3    2.706656e-09   3.477908e-09\n",
      "4   -1.396984e-09  -1.746230e-09\n",
      "..            ...            ...\n",
      "163 -7.483046e+02  -9.642808e+02\n",
      "164  0.000000e+00   0.000000e+00\n",
      "165 -7.963948e+02  -1.006256e+03\n",
      "166  0.000000e+00   0.000000e+00\n",
      "167  0.000000e+00   0.000000e+00\n",
      "\n",
      "[168 rows x 2 columns]\n",
      "            0              1         2             3             4    \\\n",
      "0  8.520363e-11 -107863.971003 -0.001009  2.706656e-09 -1.396984e-09   \n",
      "1  1.054498e-10 -145422.332810 -0.000881  3.477908e-09 -1.746230e-09   \n",
      "\n",
      "            5             6             7             8              9    ...  \\\n",
      "0 -67420.868470 -4.729372e-11 -43280.457740 -2.095476e-09 -111987.400727  ...   \n",
      "1 -85928.105573 -2.110028e-10 -59711.020478 -2.677552e-09 -157807.150222  ...   \n",
      "\n",
      "   158          159          160          161          162         163  164  \\\n",
      "0  0.0 -1728.912274 -1219.517423 -1728.913381 -1318.449504 -748.304581  0.0   \n",
      "1  0.0 -2750.838551 -2127.869032 -2750.839658 -1990.912531 -964.280774  0.0   \n",
      "\n",
      "           165  166  167  \n",
      "0  -796.394833  0.0  0.0  \n",
      "1 -1006.256363  0.0  0.0  \n",
      "\n",
      "[2 rows x 168 columns]\n"
     ]
    }
   ],
   "source": [
    "# print(\"Coefficients: \\n\", model.coef_)\n",
    "# type(model.coef_)\n",
    "coeffs = pd.DataFrame(model.coef_.transpose(), columns=['Low Estimate', 'High Estimate'])\n",
    "coeffs2 = pd.DataFrame(model.coef_)\n",
    "\n",
    "# coeffs.to_csv('linrgrTonsCoeffsFINAL',index=False)\n",
    "\n",
    "# print(coeffs)\n",
    "# print(coeffs2)\n",
    "# print(coeffs.head())\n",
    "# print(coeffs2.head())"
   ]
  },
  {
   "cell_type": "code",
   "execution_count": 81,
   "id": "d4ce3915",
   "metadata": {},
   "outputs": [
    {
     "name": "stdout",
     "output_type": "stream",
     "text": [
      "Coefficients shape: (2, 168)\n",
      "Mean squared error: 0.07\n",
      "Coefficient of determination: 1.00\n",
      "Root mean squared error: 0.27\n"
     ]
    },
    {
     "data": {
      "text/plain": [
       "Text(0, 0.5, 'Predicted Health outcomes ($)')"
      ]
     },
     "execution_count": 81,
     "metadata": {},
     "output_type": "execute_result"
    },
    {
     "data": {
      "image/png": "[encoded data removed]",
      "text/plain": [
       "<Figure size 640x480 with 1 Axes>"
      ]
     },
     "metadata": {},
     "output_type": "display_data"
    }
   ],
   "source": [
    "# lower health estimates\n",
    "print(\"Coefficients shape:\", model.coef_.shape)  # (168,)\n",
    "# print(\"Coefficients: \\n\", model.coef_)\n",
    "print(\"Mean squared error: %.2f\" % mean_squared_error(y_test[:,0], y_pred[:,0]))\n",
    "print(\"Coefficient of determination: %.2f\" % r2_score(y_test[:,0], y_pred[:,0], force_finite = False))\n",
    "print(\"Root mean squared error: %.2f\" % root_mean_squared_error(y_test[:,0], y_pred[:,0]))\n",
    "\n",
    "# this is the lower health outcomes\n",
    "plt.scatter(y_test[:,0],y_pred[:,0])\n",
    "plt.title(\"Lower bound health predictions vs testing samples\")\n",
    "plt.xlabel(\"Test set health outcomes ($)\")\n",
    "plt.ylabel(\"Predicted Health outcomes ($)\")\n",
    "\n",
    "# print(\"Mean squared error: %.2f\" % mean_squared_error(y_test[:,0], y_pred[:,0],multioutput='raw_values'))"
   ]
  },
  {
   "cell_type": "code",
   "execution_count": 82,
   "id": "f8534926",
   "metadata": {},
   "outputs": [
    {
     "name": "stdout",
     "output_type": "stream",
     "text": [
      "Mean squared error: 0.09\n",
      "Coefficient of determination: 1.00\n",
      "Root mean squared error: 0.29\n"
     ]
    },
    {
     "data": {
      "text/plain": [
       "Text(0, 0.5, 'Predicted Health outcomes ($)')"
      ]
     },
     "execution_count": 82,
     "metadata": {},
     "output_type": "execute_result"
    },
    {
     "data": {
      "image/png": "[encoded data removed]",
      "text/plain": [
       "<Figure size 640x480 with 1 Axes>"
      ]
     },
     "metadata": {},
     "output_type": "display_data"
    }
   ],
   "source": [
    "# higher health estimates\n",
    "# print(\"Coefficients: \\n\", model.coef_)\n",
    "print(\"Mean squared error: %.2f\" % mean_squared_error(y_test[:,1], y_pred[:,1]))\n",
    "print(\"Coefficient of determination: %.2f\" % r2_score(y_test[:,1], y_pred[:,1], force_finite = False))\n",
    "print(\"Root mean squared error: %.2f\" % root_mean_squared_error(y_test[:,1], y_pred[:,1]))\n",
    "\n",
    "# this is the higher estimate health outcomes\n",
    "plt.scatter(y_test[:,1],y_pred[:,1])\n",
    "plt.title(\"Upper bound health predictions vs testing samples\")\n",
    "plt.xlabel(\"Test set health outcomes ($)\")\n",
    "plt.ylabel(\"Predicted Health outcomes ($)\")\n",
    "# print(\"Mean squared error: %.2f\" % mean_squared_error(y_test[:,0], y_pred[:,0],multioutput='raw_values'))"
   ]
  },
  {
   "cell_type": "code",
   "execution_count": 83,
   "id": "3178e73e",
   "metadata": {},
   "outputs": [
    {
     "name": "stdout",
     "output_type": "stream",
     "text": [
      "low rrmse: -1.1217341653264477e-07\n",
      "high rrmse: -1.1217341653264477e-07\n"
     ]
    }
   ],
   "source": [
    "# is this the right formulation tho?? \n",
    "rel_rootmse_low = root_mean_squared_error(y_test[:,1], y_pred[:,1]) / np.mean(y_test[:,0])\n",
    "rel_rootmse_high = root_mean_squared_error(y_test[:,1], y_pred[:,1]) / np.mean(y_test[:,0])\n",
    "print(\"low rrmse:\",rel_rootmse_low)\n",
    "print(\"high rrmse:\",rel_rootmse_high)\n",
    "\n",
    "\n"
   ]
  }
 ],
 "metadata": {
  "kernelspec": {
   "display_name": "rsrglab",
   "language": "python",
   "name": "python3"
  },
  "language_info": {
   "codemirror_mode": {
    "name": "ipython",
    "version": 3
   },
   "file_extension": ".py",
   "mimetype": "text/x-python",
   "name": "python",
   "nbconvert_exporter": "python",
   "pygments_lexer": "ipython3",
   "version": "3.13.5"
  }
 },
 "nbformat": 4,
 "nbformat_minor": 5
}
