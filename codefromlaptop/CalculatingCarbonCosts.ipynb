{
 "cells": [
  {
   "cell_type": "code",
   "execution_count": 2,
   "id": "c717512b",
   "metadata": {},
   "outputs": [],
   "source": [
    "import numpy as np\n",
    "import pandas as pd"
   ]
  },
  {
   "cell_type": "code",
   "execution_count": 22,
   "id": "f5c95b4d",
   "metadata": {},
   "outputs": [],
   "source": [
    "file = pd.read_csv('/Users/elizabethrogers/Desktop/RSRG/GenericBatchFileWithInfo.csv')\n",
    "# origional rates in lbs/kWh so convert them to be in tons/MWh to be consistent\n",
    "BIT = 2.26  *1000 /2000 \n",
    "NG = 0.97  * 1000 /2000 \n",
    "WND = 0\n",
    "RFO = 2.46 * 1000 /2000 \n",
    "NUC = 0\n",
    "\n",
    "num_gen = 42\n",
    "fuel_type = file['Fuel Type'].to_numpy()\n",
    "cost_biden = 51 / 1.102\n",
    "cost_nature = 185 / 1.102\n",
    "\n",
    "# print(carbon.shape)\n"
   ]
  },
  {
   "cell_type": "code",
   "execution_count": 23,
   "id": "3b149caa",
   "metadata": {},
   "outputs": [
    {
     "name": "stdout",
     "output_type": "stream",
     "text": [
      "[0.    0.485 0.485 0.    0.    0.485 0.485 0.485 0.485 1.23  0.485 0.\n",
      " 0.485 0.    0.485 1.23  1.23  0.485 0.485 0.485 0.485 0.485 0.485 0.485\n",
      " 0.485 0.485 0.485 1.23  0.485 1.23  0.485 0.485 0.    0.485 0.485 0.485\n",
      " 0.    0.485 0.    0.485 0.485 0.485]\n"
     ]
    }
   ],
   "source": [
    "carbon = np.zeros(num_gen)\n",
    "\n",
    "for i in range(num_gen):\n",
    "    if(fuel_type[i] == 'NG'):\n",
    "        carbon[i] = NG\n",
    "    elif(fuel_type[i] == 'RFO'):\n",
    "        carbon[i] = RFO\n",
    "    elif(fuel_type[i] == 'BIT'):\n",
    "        carbon[i] == BIT\n",
    "    else:\n",
    "        carbon[i] = 0\n",
    "\n",
    "print(carbon)"
   ]
  },
  {
   "cell_type": "code",
   "execution_count": 24,
   "id": "033d14d1",
   "metadata": {},
   "outputs": [],
   "source": [
    "# np.savetxt('carbon_coeffs_biden', coeffs_biden, delimiter=';')   # X is an array\n",
    "# np.savetxt('carbon_coeffs_nature', coeffs_nature, delimiter=';')   # X is an array\n",
    "np.savetxt('carbon_coeffs_right_emissions_vals_check', carbon, delimiter=';')   # X is an array"
   ]
  },
  {
   "cell_type": "code",
   "execution_count": 19,
   "id": "470e13da",
   "metadata": {},
   "outputs": [
    {
     "name": "stdout",
     "output_type": "stream",
     "text": [
      "[  0.          81.42014519  81.42014519   0.           0.\n",
      "  81.42014519  81.42014519  81.42014519  81.42014519 206.48820327\n",
      "  81.42014519   0.          81.42014519   0.          81.42014519\n",
      " 206.48820327 206.48820327  81.42014519  81.42014519  81.42014519\n",
      "  81.42014519  81.42014519  81.42014519  81.42014519  81.42014519\n",
      "  81.42014519  81.42014519 206.48820327  81.42014519 206.48820327\n",
      "  81.42014519  81.42014519   0.          81.42014519  81.42014519\n",
      "  81.42014519   0.          81.42014519   0.          81.42014519\n",
      "  81.42014519  81.42014519]\n"
     ]
    }
   ],
   "source": [
    "print(carbon*cost_nature)\n",
    "\n",
    "np.savetxt('carbon_coeffs_nature_right_emissions_vals', carbon*cost_nature, delimiter=';')   # X is an array"
   ]
  },
  {
   "cell_type": "code",
   "execution_count": null,
   "id": "cbcf0b04",
   "metadata": {},
   "outputs": [],
   "source": [
    "# go thru again to calculate carbon costs\n",
    "carbon = np.zeros(num_gen)\n",
    "\n",
    "for i in range(num_gen):\n",
    "    if(fuel_type[i] == 'NG'):\n",
    "        carbon[i] = NG\n",
    "    elif(fuel_type[i] == 'RFO'):\n",
    "        carbon[i] = RFO\n",
    "    elif(fuel_type[i] == 'BIT'):\n",
    "        carbon[i] == BIT\n",
    "    else:\n",
    "        carbon[i] = 0\n",
    "\n",
    "coeffs_nature = carbon"
   ]
  }
 ],
 "metadata": {
  "kernelspec": {
   "display_name": "summer25",
   "language": "python",
   "name": "python3"
  },
  "language_info": {
   "codemirror_mode": {
    "name": "ipython",
    "version": 3
   },
   "file_extension": ".py",
   "mimetype": "text/x-python",
   "name": "python",
   "nbconvert_exporter": "python",
   "pygments_lexer": "ipython3",
   "version": "3.13.5"
  }
 },
 "nbformat": 4,
 "nbformat_minor": 5
}
