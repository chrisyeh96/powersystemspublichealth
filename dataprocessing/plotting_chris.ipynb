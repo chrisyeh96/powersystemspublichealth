{
 "cells": [
  {
   "cell_type": "code",
   "execution_count": null,
   "id": "878aae99",
   "metadata": {},
   "outputs": [],
   "source": [
    "%load_ext autoreload\n",
    "%autoreload 2\n",
    "%matplotlib inline\n",
    "%cd .."
   ]
  },
  {
   "cell_type": "code",
   "execution_count": null,
   "id": "f71afd10",
   "metadata": {},
   "outputs": [],
   "source": [
    "import os\n",
    "\n",
    "# import geopandas as gpd\n",
    "import matplotlib.pyplot as plt\n",
    "import pandas as pd\n",
    "import seaborn.objects as so\n",
    "\n",
    "\n",
    "# Create a list of the New England state FIPS codes\n",
    "# ne_fips = ['09', '23', '25', '33', '44', '50']"
   ]
  },
  {
   "cell_type": "code",
   "execution_count": null,
   "id": "b58ef89f",
   "metadata": {},
   "outputs": [],
   "source": [
    "# List of New England state FIPS codes\n",
    "state_abbrv_to_FIPS = {\n",
    "    \"CT\": \"09\",\n",
    "    \"ME\": \"23\",\n",
    "    \"MA\": \"25\",\n",
    "    \"NH\": \"33\",\n",
    "    \"RI\": \"44\",\n",
    "    \"VT\": \"50\",\n",
    "    \"NY\": \"36\"\n",
    "}\n",
    "\n",
    "NE_state_abbrv_to_state = {\n",
    "    'CT': 'Connecticut',\n",
    "    'ME': 'Maine',\n",
    "    'MA': 'Massachusetts',\n",
    "    'NH': 'New Hampshire',\n",
    "    'RI': 'Rhode Island',\n",
    "    'VT': 'Vermont',\n",
    "    'NY': 'New York'\n",
    "}\n",
    "\n",
    "NE_state_to_state_abbrv = {v: k for k, v in NE_state_abbrv_to_state.items()}\n",
    "\n",
    "equity_data_dir = 'equitydatasets'\n",
    "NE_outcomes_dir = 'NewEnglandSpecificOutcomes'\n",
    "\n",
    "# data sets\n",
    "population = pd.read_csv(os.path.join(equity_data_dir, \"PopulationEstimates.csv\"))\n",
    "poverty = pd.read_csv(os.path.join(equity_data_dir, \"Poverty2023.csv\"))\n",
    "unemployment = pd.read_csv(os.path.join(equity_data_dir, \"UnemploymentAndIncome2023.csv\"))\n",
    "\n",
    "# cobra outcomes\n",
    "highhealth = pd.read_csv(\n",
    "    os.path.join(NE_outcomes_dir, \"Fall116highhealthGeneratorOutcome.csv\"),\n",
    "    skiprows=(1,3110))\n",
    "lowhealth = pd.read_csv(os.path.join(NE_outcomes_dir, \"Fall116lowhealthGeneratorOutcome.csv\"))\n",
    "carbon = pd.read_csv(os.path.join(NE_outcomes_dir, \"Fall116CarbonEmissionsOutcome.csv\"))\n",
    "mixedhigh = pd.read_csv(os.path.join(NE_outcomes_dir, \"Fall116mixhighGeneratorOutcome.csv\"))\n",
    "mixedlow = pd.read_csv(os.path.join(NE_outcomes_dir, \"Fall116mixlowGeneratorOutcome.csv\"))\n",
    "original = pd.read_csv(os.path.join(NE_outcomes_dir, \"Fall116OriginalCostGeneratorOutcome.csv\"))"
   ]
  },
  {
   "cell_type": "code",
   "execution_count": null,
   "id": "33012999",
   "metadata": {},
   "outputs": [],
   "source": [
    "highhealth"
   ]
  },
  {
   "cell_type": "markdown",
   "id": "dfc4cba9",
   "metadata": {},
   "source": [
    "## High Health (Total Health Benefits - high estimate)"
   ]
  },
  {
   "cell_type": "code",
   "execution_count": null,
   "id": "64ad0fde",
   "metadata": {},
   "outputs": [],
   "source": [
    "with pd.option_context('display.max_rows', None, 'display.max_columns', None):\n",
    "    display(highhealth.dtypes)"
   ]
  },
  {
   "cell_type": "code",
   "execution_count": null,
   "id": "6d4b60b2",
   "metadata": {},
   "outputs": [],
   "source": [
    "NE_states = [\n",
    "    'Connecticut', 'Maine', 'Massachusetts', 'New Hampshire', 'Rhode Island', 'Vermont', 'New York'\n",
    "]\n",
    "NE_highhealth = highhealth.loc[\n",
    "    highhealth['State'].isin(NE_state_abbrv_to_state.values()),\n",
    "    ['State', 'County', '$ Total Health Benefits(high estimate)',\n",
    "     '$ Total Health Benefits(low estimate)']\n",
    "]\n",
    "NE_highhealth = NE_highhealth.rename(columns={\n",
    "    '$ Total Health Benefits(high estimate)': 'Health Benefits (high)',\n",
    "    '$ Total Health Benefits(low estimate)': 'Health Benefits (low)',\n",
    "})\n",
    "\n",
    "NE_highhealth['State'] = NE_highhealth['State'].map(lambda x: NE_state_to_state_abbrv[x])\n",
    "\n",
    "NE_highhealth = NE_highhealth.set_index(['State', 'County']).sort_index()"
   ]
  },
  {
   "cell_type": "code",
   "execution_count": null,
   "id": "0f363138",
   "metadata": {},
   "outputs": [],
   "source": [
    "NE_highhealth"
   ]
  },
  {
   "cell_type": "markdown",
   "id": "090627b3",
   "metadata": {},
   "source": [
    "# Population"
   ]
  },
  {
   "cell_type": "code",
   "execution_count": null,
   "id": "fec15aff",
   "metadata": {},
   "outputs": [],
   "source": [
    "NE_population_mask = population['State'].isin(NE_state_abbrv_to_state.keys())\n",
    "\n",
    "NE_population = population.loc[\n",
    "    NE_population_mask & (population['Attribute'] == 'POP_ESTIMATE_2021'),\n",
    "    ['State', 'Area_Name', 'Value']\n",
    "]\n",
    "\n",
    "NE_population = NE_population.rename(columns={'Area_Name': 'County', 'Value': 'Population'})\n",
    "\n",
    "NE_population = NE_population.loc[NE_population['County'].str.contains('County')]\n",
    "NE_population['County'] = NE_population['County'].str.replace(' County', '', regex=False)\n",
    "\n",
    "assert (NE_population['Population'] % 1.).max() == 0.\n",
    "NE_population['Population'] = NE_population['Population'].astype(int)\n",
    "NE_population = NE_population.set_index(['State', 'County']).sort_index()['Population']"
   ]
  },
  {
   "cell_type": "markdown",
   "id": "158e62e7",
   "metadata": {},
   "source": [
    "# Income"
   ]
  },
  {
   "cell_type": "code",
   "execution_count": null,
   "id": "967263a1",
   "metadata": {},
   "outputs": [],
   "source": [
    "NE_income_mask = unemployment['State'].isin(NE_state_abbrv_to_state.keys())\n",
    "\n",
    "NE_income = unemployment.loc[\n",
    "    NE_income_mask & (unemployment['Attribute'] == 'Median_Household_Income_2022'),\n",
    "    ['State', 'Area_Name', 'Value']\n",
    "]\n",
    "\n",
    "NE_income = NE_income.rename(columns={'Area_Name': 'County', 'Value': 'Income'})\n",
    "\n",
    "NE_income = NE_income.loc[NE_income['County'].str.contains('County')]\n",
    "NE_income['County'] = NE_income['County'].str.replace(' County, ..', '', regex=True)\n",
    "\n",
    "assert (NE_income['Income'] % 1.).max() == 0.\n",
    "NE_income['Income'] = NE_income['Income'].astype(int)\n",
    "NE_income = NE_income.set_index(['State', 'County']).sort_index()['Income']"
   ]
  },
  {
   "cell_type": "code",
   "execution_count": null,
   "id": "3679bd5f",
   "metadata": {},
   "outputs": [],
   "source": [
    "NE_income"
   ]
  },
  {
   "cell_type": "markdown",
   "id": "5520858e",
   "metadata": {},
   "source": [
    "# Join"
   ]
  },
  {
   "cell_type": "code",
   "execution_count": null,
   "id": "f8435161",
   "metadata": {},
   "outputs": [],
   "source": [
    "# TODO: use outer first, then check for NaNs\n",
    "# Fix earlier code until there's no NaNs\n",
    "# Currently, Connecticut has NaNs in population and income, because it only has 2020 population listed, not 2021\n",
    "\n",
    "outer = NE_highhealth.join([NE_population, NE_income], how='outer')\n",
    "outer[outer.isna().any(axis=1)]"
   ]
  },
  {
   "cell_type": "code",
   "execution_count": null,
   "id": "f565e2e0",
   "metadata": {},
   "outputs": [],
   "source": [
    "inner = NE_highhealth.join([NE_population, NE_income], how='inner').reset_index()\n",
    "inner"
   ]
  },
  {
   "cell_type": "code",
   "execution_count": null,
   "id": "f10d6892",
   "metadata": {},
   "outputs": [],
   "source": [
    "(\n",
    "    so.Plot(\n",
    "        inner,\n",
    "        x='Income',\n",
    "        y='Health Benefits (high)',\n",
    "        # color='State',\n",
    "        pointsize='Population')\n",
    "    .add(so.Dot())\n",
    "    .facet(col='State')\n",
    "    .layout(size=(12, 4))\n",
    ")"
   ]
  }
 ],
 "metadata": {
  "kernelspec": {
   "display_name": "powerhealth",
   "language": "python",
   "name": "python3"
  },
  "language_info": {
   "codemirror_mode": {
    "name": "ipython",
    "version": 3
   },
   "file_extension": ".py",
   "mimetype": "text/x-python",
   "name": "python",
   "nbconvert_exporter": "python",
   "pygments_lexer": "ipython3",
   "version": "3.13.7"
  }
 },
 "nbformat": 4,
 "nbformat_minor": 5
}
